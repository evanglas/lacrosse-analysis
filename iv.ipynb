{
 "cells": [
  {
   "cell_type": "code",
   "execution_count": 1,
   "metadata": {},
   "outputs": [],
   "source": [
    "from bs4 import BeautifulSoup\n",
    "import requests\n",
    "import csv"
   ]
  },
  {
   "cell_type": "code",
   "execution_count": 32,
   "metadata": {},
   "outputs": [
    {
     "name": "stdout",
     "output_type": "stream",
     "text": [
      "571374 LIU\n",
      "02/10/2024 @ Monmouth L 10-14 503 \n",
      " \n",
      "02/17/2024 Merrimack W 10-8 176 \n",
      " \n",
      "02/24/2024 @ Lindenwood W 10-7 204 \n",
      " \n",
      "03/02/2024 UMass Lowell W 13-6 304 \n",
      " \n",
      "03/09/2024 @ VMI W 17-8 258 \n",
      " \n",
      "03/16/2024 Mount St. Mary's W 13-6 234 \n",
      " \n",
      "03/23/2024 @ Siena W 12-11 (1 OT) 100 \n",
      " \n",
      "03/27/2024 @ Wagner W 14-8 422 \n",
      " \n",
      "03/30/2024 Sacred Heart L 6-17 425 \n",
      " \n",
      "04/05/2024 @ Canisius W 17-15 234 \n",
      " \n",
      "04/10/2024 Manhattan W 13-12 350 \n",
      " \n",
      "04/13/2024 @ Marist L 8-15 845 \n",
      " \n",
      "04/20/2024 Quinnipiac W 10-9 (1 OT) 315 \n",
      " \n",
      "05/02/2024 @#3 Manhattan MAAC MLA Championship L 7-8 652 \n",
      " \n"
     ]
    }
   ],
   "source": [
    "headers = {\n",
    "    \"User-Agent\": \"Mozilla/5.0 (Windows NT 10.0; Win64; x64) AppleWebKit/537.36 (KHTML, like Gecko) Chrome/96.0.4664.45 Safari/537.36\"\n",
    "}\n",
    "\n",
    "base_url = \"https://stats.ncaa.org/teams/\"\n",
    "\n",
    "with requests.Session() as session:\n",
    "    with open(\"lacrosse_teams_24.csv\", \"r\") as teams_file:\n",
    "        teams = csv.reader(teams_file)\n",
    "        csv_header = next(teams)\n",
    "\n",
    "        for team in teams:\n",
    "            print(team[0], team[1])\n",
    "            response = session.get(\n",
    "                base_url + str(team[0]),\n",
    "                headers=headers,\n",
    "            )\n",
    "            if response.status_code == 200:\n",
    "                soup = BeautifulSoup(response.content, \"lxml\")\n",
    "\n",
    "                for tr in soup.find(\"tbody\").find_all(\"tr\"):\n",
    "                    for td in tr.find_all(\"td\"):\n",
    "                        print(td.text.strip(), end=\" \")\n",
    "                    print()\n",
    "\n",
    "                # print(soup.find('tbody').find_all('tr'))\n",
    "                # with open(\"test.txt\", \"w\") as f:\n",
    "                #     f.write(soup.prettify())\n",
    "            else:\n",
    "                print(f\"Error: {response.status_code}\")\n",
    "\n",
    "            break"
   ]
  },
  {
   "cell_type": "code",
   "execution_count": 3,
   "metadata": {},
   "outputs": [],
   "source": [
    "headers = {\n",
    "    \"User-Agent\": \"Mozilla/5.0 (Windows NT 10.0; Win64; x64) AppleWebKit/537.36 (KHTML, like Gecko) Chrome/96.0.4664.45 Safari/537.36\"\n",
    "}\n",
    "with requests.Session() as session:\n",
    "    response = session.get(\n",
    "        \"https://stats.ncaa.org/contests/livestream_scoreboards?utf8=%E2%9C%93&sport_code=WLA&academic_year=&division=&game_date=&commit=Submit\",\n",
    "        headers=headers,\n",
    "    )\n",
    "    if response.status_code == 200:\n",
    "        soup = BeautifulSoup(response.content, \"html.parser\")\n",
    "    else:\n",
    "        print(f\"Error: {response.status_code}\")"
   ]
  }
 ],
 "metadata": {
  "kernelspec": {
   "display_name": "base",
   "language": "python",
   "name": "python3"
  },
  "language_info": {
   "codemirror_mode": {
    "name": "ipython",
    "version": 3
   },
   "file_extension": ".py",
   "mimetype": "text/x-python",
   "name": "python",
   "nbconvert_exporter": "python",
   "pygments_lexer": "ipython3",
   "version": "3.11.7"
  }
 },
 "nbformat": 4,
 "nbformat_minor": 2
}
