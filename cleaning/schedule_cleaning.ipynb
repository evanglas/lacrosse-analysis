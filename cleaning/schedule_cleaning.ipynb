{
 "cells": [
  {
   "cell_type": "code",
   "execution_count": 2,
   "metadata": {},
   "outputs": [],
   "source": [
    "import pandas as pd"
   ]
  },
  {
   "cell_type": "code",
   "execution_count": 8,
   "metadata": {},
   "outputs": [],
   "source": [
    "START_YEAR = 2011\n",
    "SCHEDULE_FOLDER = '../D-I Cleaned/schedules/'\n",
    "SCHEDULE_COLS = ['school_id', 'team_id', 'date', 'site', 'opponent', 'opponent_url', 'notes', 'opponent_img_url', 'result', 'contest_url', 'attendance']\n",
    "ORDERED_COLS = ['contest_url', 'date', 'site', 'school_name', 'wl', 'gs', 'ga', 'opponent', 'school_id', 'opponent_school_id', 'attendance', 'notes']\n",
    "RENAMED_COLS = ['contest_id','date', 'site', 'school', 'result', 'gs', 'ga', 'opponent_school', 'school_id', 'opponent_school_id', 'attendance', 'notes']\n",
    "years = [str(year-1) + '-' + str(year % 100).zfill(2) for year in range(START_YEAR, 2024)]\n",
    "schools = pd.read_csv('../general_data/schools.csv', skiprows=1, header=None)\n",
    "schools.columns = ['school_id', 'school_name']"
   ]
  },
  {
   "cell_type": "code",
   "execution_count": 11,
   "metadata": {},
   "outputs": [],
   "source": [
    "def clean_schedule(s, pre2017):\n",
    "    s.columns = SCHEDULE_COLS\n",
    "    s['site'] = s.site.where(s.site != '@', 'away')\n",
    "    s['site'] = s.site.where((s.site == 'away') | s.notes.isna() | (s.notes.str[0] != '@'), 'neutral')\n",
    "    s['site'] = s.site.fillna('home')\n",
    "    s = s.merge(schools, on='school_id')\n",
    "    non_d1_games = s.contest_url.value_counts()[s.contest_url.value_counts() == 1].index\n",
    "    s = s.loc[~s.contest_url.isin(non_d1_games)]\n",
    "    s = s.loc[(s.result != \"Canceled\") & (s.result.notna()) & (s.result != 'Ppd')]\n",
    "    s.loc[:,'result'] = s.result.str.replace('-', ' ')\n",
    "    game_result_list = s.result.str.split().str\n",
    "    # print(game_result_list)\n",
    "    try:\n",
    "        s['wl'] = s.result.str.split().str[0]\n",
    "        s['gs'] = s.result.str.split().str[1].astype(int)\n",
    "        s['ga'] = s.result.str.split().str[2]\n",
    "    except Exception as e:\n",
    "        print(e)\n",
    "        return None\n",
    "    s = s.merge(s[['school_id', 'contest_url']].add_prefix('opponent_'), left_on='contest_url', right_on='opponent_contest_url', how='left')\n",
    "    s = s.loc[s.school_id != s.opponent_school_id].drop(columns='opponent_contest_url')\n",
    "    # s['opponent_school_id'] = s.opponent_url.str.split('/').str[2] if pre2017 else None\n",
    "    s = s[ORDERED_COLS]\n",
    "    s['contest_url'] = s.contest_url.str.split('/').str[2]\n",
    "    s.columns = RENAMED_COLS\n",
    "    s.loc[:, 'date'] = pd.to_datetime(s.date)\n",
    "    return s"
   ]
  },
  {
   "cell_type": "code",
   "execution_count": 12,
   "metadata": {},
   "outputs": [],
   "source": [
    "schedules = [clean_schedule(s, True) for s in [pd.read_csv(SCHEDULE_FOLDER + year + '.csv') for year in years]]"
   ]
  },
  {
   "cell_type": "code",
   "execution_count": 17,
   "metadata": {},
   "outputs": [],
   "source": [
    "pd.concat(schedules).to_csv('games_2011_to_2023.csv', index=False)"
   ]
  },
  {
   "cell_type": "markdown",
   "metadata": {},
   "source": [
    "# Finding errors in home/away/neutral"
   ]
  },
  {
   "cell_type": "code",
   "execution_count": null,
   "metadata": {},
   "outputs": [],
   "source": [
    "g = schedules[2]\n",
    "set(g.loc[g.site == 'away'].contest_id) - set(g.loc[g.site == 'home'].contest_id)\n",
    "schedules[2].loc[schedules[2].contest_id.isin(schedules[2][['contest_id','site']].loc[schedules[2].site == 'away'].contest_id)].site.value_counts()\n",
    "st = pd.read_csv('D-I Cleaned/schedules/2023-24.csv', header=None)\n",
    "st[9] = st[9].str.split('/').str[2]\n",
    "cs = schedules[-1][['contest_id','site']]\n",
    "cs.loc[cs.site == 'neutral'].value_counts().sort_values()"
   ]
  }
 ],
 "metadata": {
  "kernelspec": {
   "display_name": "base",
   "language": "python",
   "name": "python3"
  },
  "language_info": {
   "codemirror_mode": {
    "name": "ipython",
    "version": 3
   },
   "file_extension": ".py",
   "mimetype": "text/x-python",
   "name": "python",
   "nbconvert_exporter": "python",
   "pygments_lexer": "ipython3",
   "version": "3.11.7"
  }
 },
 "nbformat": 4,
 "nbformat_minor": 2
}
